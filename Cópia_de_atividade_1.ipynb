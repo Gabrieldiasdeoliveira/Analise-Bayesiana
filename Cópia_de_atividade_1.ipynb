{
  "nbformat": 4,
  "nbformat_minor": 0,
  "metadata": {
    "colab": {
      "provenance": [],
      "authorship_tag": "ABX9TyOnzkjwAYk/yFqRHUYLQWVK",
      "include_colab_link": true
    },
    "kernelspec": {
      "name": "ir",
      "display_name": "R"
    },
    "language_info": {
      "name": "R"
    }
  },
  "cells": [
    {
      "cell_type": "markdown",
      "metadata": {
        "id": "view-in-github",
        "colab_type": "text"
      },
      "source": [
        "<a href=\"https://colab.research.google.com/github/Gabrieldiasdeoliveira/Analise-Bayesiana/blob/main/C%C3%B3pia_de_atividade_1.ipynb\" target=\"_parent\"><img src=\"https://colab.research.google.com/assets/colab-badge.svg\" alt=\"Open In Colab\"/></a>"
      ]
    },
    {
      "cell_type": "markdown",
      "source": [
        "ATIVIDADE 1"
      ],
      "metadata": {
        "id": "ivkXiIuWkz0p"
      }
    },
    {
      "cell_type": "markdown",
      "source": [
        "#1) Uma agência de turismo estudou a demanda de passagem sem relação a variação do preço de venda e obteve os valores abaixo:"
      ],
      "metadata": {
        "id": "0SB3Luaxk09_"
      }
    },
    {
      "cell_type": "code",
      "source": [
        "preco_venda <- c(33, 25, 24, 18, 12, 10, 8, 4)\n",
        "demanda_passagens <- c(300, 400, 500, 600, 700, 800, 900, 1000)"
      ],
      "metadata": {
        "id": "z8sv8j8zk3Lu"
      },
      "execution_count": null,
      "outputs": []
    },
    {
      "cell_type": "code",
      "source": [
        "base_dados <- data.frame(preco_venda, demanda_passagens)\n"
      ],
      "metadata": {
        "id": "es_vTm44lAnb"
      },
      "execution_count": null,
      "outputs": []
    },
    {
      "cell_type": "markdown",
      "source": [
        "# Calcule:\n"
      ],
      "metadata": {
        "id": "xcavGHD4lK-u"
      }
    },
    {
      "cell_type": "markdown",
      "source": [
        "a) coeficiente de correlação linear?"
      ],
      "metadata": {
        "id": "nUxe0H5dlVab"
      }
    },
    {
      "cell_type": "code",
      "source": [
        "correlacao <- cor(preco_venda, demanda_passagens, method = \"pearson\")\n",
        "correlacao"
      ],
      "metadata": {
        "colab": {
          "base_uri": "https://localhost:8080/",
          "height": 34
        },
        "id": "TRxalcvLliog",
        "outputId": "c28f0dc5-fc37-4668-cc41-e47289514bfb"
      },
      "execution_count": null,
      "outputs": [
        {
          "output_type": "display_data",
          "data": {
            "text/html": [
              "-0.984376877551682"
            ],
            "text/markdown": "-0.984376877551682",
            "text/latex": "-0.984376877551682",
            "text/plain": [
              "[1] -0.9843769"
            ]
          },
          "metadata": {}
        }
      ]
    },
    {
      "cell_type": "markdown",
      "source": [
        "b) equação da reta para regressão "
      ],
      "metadata": {
        "id": "Q19LFigmlwTK"
      }
    },
    {
      "cell_type": "code",
      "source": [
        "modelo <- lm(demanda_passagens ~ preco_venda)\n",
        "\n",
        "a <- coef(modelo)[1]\n",
        "b <- coef(modelo)[2]\n",
        "equacao_reta <- paste0(\"y = \", a, \" + \", b, \"x\")\n",
        "equacao_reta "
      ],
      "metadata": {
        "colab": {
          "base_uri": "https://localhost:8080/",
          "height": 34
        },
        "id": "A5_MzGVFlw0C",
        "outputId": "08fe43c7-7f13-42a4-c5b9-9b66ed65977b"
      },
      "execution_count": null,
      "outputs": [
        {
          "output_type": "display_data",
          "data": {
            "text/html": [
              "'y = 1055.7678442682 + -24.22494592646x'"
            ],
            "text/markdown": "'y = 1055.7678442682 + -24.22494592646x'",
            "text/latex": "'y = 1055.7678442682 + -24.22494592646x'",
            "text/plain": [
              "[1] \"y = 1055.7678442682 + -24.22494592646x\""
            ]
          },
          "metadata": {}
        }
      ]
    },
    {
      "cell_type": "markdown",
      "source": [
        "C) Para uma venda = 40 qual o valor de y?\n"
      ],
      "metadata": {
        "id": "cZ1HbjUxmAow"
      }
    },
    {
      "cell_type": "code",
      "source": [
        "preco <- 40\n",
        "demanda_estimada <- a + b * preco\n",
        "\n",
        "demanda_estimada"
      ],
      "metadata": {
        "colab": {
          "base_uri": "https://localhost:8080/",
          "height": 34
        },
        "id": "VC1UQlt-mC7z",
        "outputId": "4a5c7b58-e6f1-448b-9dff-415ef5a06225"
      },
      "execution_count": null,
      "outputs": [
        {
          "output_type": "display_data",
          "data": {
            "text/html": [
              "<strong>(Intercept):</strong> 86.7700072098048"
            ],
            "text/markdown": "**(Intercept):** 86.7700072098048",
            "text/latex": "\\textbf{(Intercept):} 86.7700072098048",
            "text/plain": [
              "(Intercept) \n",
              "   86.77001 "
            ]
          },
          "metadata": {}
        }
      ]
    },
    {
      "cell_type": "markdown",
      "source": [
        "# 2) As vendas de determinados produtos, em milhares de unidades, foram anotadas para\n",
        "# diferentes valores de gastos com propaganda, em unidades monetárias. Foram obtidos\n",
        "# os seguintes resultados:"
      ],
      "metadata": {
        "id": "dQ7Px3QXmXOV"
      }
    },
    {
      "cell_type": "code",
      "source": [
        "# Criando a base de dados\n",
        "dados <- data.frame(\n",
        "  gastos = c(1, 2, 3, 4, 5, 6, 7, 8),\n",
        "  vendas = c(2.2, 3.0, 2.8, 3.4, 3.7, 3.5, 3.6, 3.8),\n",
        "  dec = \",\"\n",
        ")\n",
        "\n",
        "# Exibindo a base de dados criada\n",
        "dados\n"
      ],
      "metadata": {
        "colab": {
          "base_uri": "https://localhost:8080/",
          "height": 349
        },
        "id": "RJiS4MWMmZmj",
        "outputId": "521ed1d3-e6c1-45e6-d05b-b18b1458e80c"
      },
      "execution_count": null,
      "outputs": [
        {
          "output_type": "display_data",
          "data": {
            "text/html": [
              "<table class=\"dataframe\">\n",
              "<caption>A data.frame: 8 × 3</caption>\n",
              "<thead>\n",
              "\t<tr><th scope=col>gastos</th><th scope=col>vendas</th><th scope=col>dec</th></tr>\n",
              "\t<tr><th scope=col>&lt;dbl&gt;</th><th scope=col>&lt;dbl&gt;</th><th scope=col>&lt;chr&gt;</th></tr>\n",
              "</thead>\n",
              "<tbody>\n",
              "\t<tr><td>1</td><td>2.2</td><td>,</td></tr>\n",
              "\t<tr><td>2</td><td>3.0</td><td>,</td></tr>\n",
              "\t<tr><td>3</td><td>2.8</td><td>,</td></tr>\n",
              "\t<tr><td>4</td><td>3.4</td><td>,</td></tr>\n",
              "\t<tr><td>5</td><td>3.7</td><td>,</td></tr>\n",
              "\t<tr><td>6</td><td>3.5</td><td>,</td></tr>\n",
              "\t<tr><td>7</td><td>3.6</td><td>,</td></tr>\n",
              "\t<tr><td>8</td><td>3.8</td><td>,</td></tr>\n",
              "</tbody>\n",
              "</table>\n"
            ],
            "text/markdown": "\nA data.frame: 8 × 3\n\n| gastos &lt;dbl&gt; | vendas &lt;dbl&gt; | dec &lt;chr&gt; |\n|---|---|---|\n| 1 | 2.2 | , |\n| 2 | 3.0 | , |\n| 3 | 2.8 | , |\n| 4 | 3.4 | , |\n| 5 | 3.7 | , |\n| 6 | 3.5 | , |\n| 7 | 3.6 | , |\n| 8 | 3.8 | , |\n\n",
            "text/latex": "A data.frame: 8 × 3\n\\begin{tabular}{lll}\n gastos & vendas & dec\\\\\n <dbl> & <dbl> & <chr>\\\\\n\\hline\n\t 1 & 2.2 & ,\\\\\n\t 2 & 3.0 & ,\\\\\n\t 3 & 2.8 & ,\\\\\n\t 4 & 3.4 & ,\\\\\n\t 5 & 3.7 & ,\\\\\n\t 6 & 3.5 & ,\\\\\n\t 7 & 3.6 & ,\\\\\n\t 8 & 3.8 & ,\\\\\n\\end{tabular}\n",
            "text/plain": [
              "  gastos vendas dec\n",
              "1 1      2.2    ,  \n",
              "2 2      3.0    ,  \n",
              "3 3      2.8    ,  \n",
              "4 4      3.4    ,  \n",
              "5 5      3.7    ,  \n",
              "6 6      3.5    ,  \n",
              "7 7      3.6    ,  \n",
              "8 8      3.8    ,  "
            ]
          },
          "metadata": {}
        }
      ]
    },
    {
      "cell_type": "markdown",
      "source": [],
      "metadata": {
        "id": "26YWCO14sJ_O"
      }
    },
    {
      "cell_type": "markdown",
      "source": [
        "# Determine"
      ],
      "metadata": {
        "id": "YWZSKlxnnVcT"
      }
    },
    {
      "cell_type": "markdown",
      "source": [
        "a) Correlação entre as variáveis Gastos x Vendas"
      ],
      "metadata": {
        "id": "XIN9QuETnWfy"
      }
    },
    {
      "cell_type": "code",
      "source": [
        "# Calculando a correlação entre Gastos e Vendas\n",
        "correlacao <- cor(dados$gastos, dados$vendas)\n",
        "\n",
        "# Exibindo a correlação\n",
        "correlacao\n"
      ],
      "metadata": {
        "colab": {
          "base_uri": "https://localhost:8080/",
          "height": 34
        },
        "id": "0TCtQEmdnYEH",
        "outputId": "39f9746b-99cf-47e8-c893-7c1547cdff33"
      },
      "execution_count": null,
      "outputs": [
        {
          "output_type": "display_data",
          "data": {
            "text/html": [
              "0.888018021960144"
            ],
            "text/markdown": "0.888018021960144",
            "text/latex": "0.888018021960144",
            "text/plain": [
              "[1] 0.888018"
            ]
          },
          "metadata": {}
        }
      ]
    },
    {
      "cell_type": "markdown",
      "source": [
        "b) A reta da regressão"
      ],
      "metadata": {
        "id": "Ce2vmeAYplcD"
      }
    },
    {
      "cell_type": "code",
      "source": [
        "# Ajustando um modelo de regressão linear\n",
        "modelo <- lm(vendas ~ gastos, data = dados)\n",
        "\n",
        "# Desenhando a reta de regressão\n",
        "plot(dados$gastos, dados$vendas, main = \"Gráfico de Dispersão com Reta de Regressão\")\n",
        "abline(modelo, col = \"blue\")\n"
      ],
      "metadata": {
        "colab": {
          "base_uri": "https://localhost:8080/",
          "height": 437
        },
        "id": "DMjJWLUKppiR",
        "outputId": "4ff886fb-d18e-42c3-e068-d81fa4a3df82"
      },
      "execution_count": null,
      "outputs": [
        {
          "output_type": "display_data",
          "data": {
            "text/plain": [
              "Plot with title “Gráfico de Dispersão com Reta de Regressão”"
            ],
            "image/png": "[encoded data removed]"
          },
          "metadata": {
            "image/png": {
              "width": 420,
              "height": 420
            }
          }
        }
      ]
    },
    {
      "cell_type": "markdown",
      "source": [
        "c) Com os gastos igual x = 15 qual a previsão para as vendas (Y)?"
      ],
      "metadata": {
        "id": "lu-0kq6Dp5vR"
      }
    },
    {
      "cell_type": "code",
      "source": [
        "# Ajustando um modelo de regressão linear\n",
        "modelo <- lm(vendas ~ gastos, data = dados)\n",
        "\n",
        "# Obtendo a previsão de vendas para gastos iguais a 15\n",
        "gastos_novos <- data.frame(gastos = 15)\n",
        "previsao_vendas <- predict(modelo, newdata = gastos_novos)\n",
        "\n",
        "# Exibindo a previsão de vendas\n",
        "previsao_vendas\n"
      ],
      "metadata": {
        "colab": {
          "base_uri": "https://localhost:8080/",
          "height": 34
        },
        "id": "D01w8zeYp7Th",
        "outputId": "ae5ac92d-e4c4-4916-b98f-b8a5985d9d09"
      },
      "execution_count": null,
      "outputs": [
        {
          "output_type": "display_data",
          "data": {
            "text/html": [
              "<strong>1:</strong> 5.325"
            ],
            "text/markdown": "**1:** 5.325",
            "text/latex": "\\textbf{1:} 5.325",
            "text/plain": [
              "    1 \n",
              "5.325 "
            ]
          },
          "metadata": {}
        }
      ]
    },
    {
      "cell_type": "markdown",
      "source": [
        "# 3) As vendas de determinado produto e os gastos com publicidade de uma empresa, estão no gráfico abaixo. Determine para estas variáveis:"
      ],
      "metadata": {
        "id": "uXeu83eoqFNj"
      }
    },
    {
      "cell_type": "markdown",
      "source": [
        "a) A correlação entre as variáveis Vendas x Gastos com publicidade"
      ],
      "metadata": {
        "id": "WM9bCoOQqKWs"
      }
    },
    {
      "cell_type": "code",
      "source": [
        "# Criando o dataframe com os dados\n",
        "dados <- data.frame(publicidade = c(7, 9, 16, 16, 22, 25),\n",
        "                    vendas = c(5, 7, 13, 15, 20, 19))\n",
        "\n",
        "# Exibindo o dataframe\n",
        "dados\n"
      ],
      "metadata": {
        "colab": {
          "base_uri": "https://localhost:8080/",
          "height": 286
        },
        "id": "Sg8til6hqWDZ",
        "outputId": "4c4cd2a5-df1a-4e4e-d2d2-ee7188654aac"
      },
      "execution_count": null,
      "outputs": [
        {
          "output_type": "display_data",
          "data": {
            "text/html": [
              "<table class=\"dataframe\">\n",
              "<caption>A data.frame: 6 × 2</caption>\n",
              "<thead>\n",
              "\t<tr><th scope=col>publicidade</th><th scope=col>vendas</th></tr>\n",
              "\t<tr><th scope=col>&lt;dbl&gt;</th><th scope=col>&lt;dbl&gt;</th></tr>\n",
              "</thead>\n",
              "<tbody>\n",
              "\t<tr><td> 7</td><td> 5</td></tr>\n",
              "\t<tr><td> 9</td><td> 7</td></tr>\n",
              "\t<tr><td>16</td><td>13</td></tr>\n",
              "\t<tr><td>16</td><td>15</td></tr>\n",
              "\t<tr><td>22</td><td>20</td></tr>\n",
              "\t<tr><td>25</td><td>19</td></tr>\n",
              "</tbody>\n",
              "</table>\n"
            ],
            "text/markdown": "\nA data.frame: 6 × 2\n\n| publicidade &lt;dbl&gt; | vendas &lt;dbl&gt; |\n|---|---|\n|  7 |  5 |\n|  9 |  7 |\n| 16 | 13 |\n| 16 | 15 |\n| 22 | 20 |\n| 25 | 19 |\n\n",
            "text/latex": "A data.frame: 6 × 2\n\\begin{tabular}{ll}\n publicidade & vendas\\\\\n <dbl> & <dbl>\\\\\n\\hline\n\t  7 &  5\\\\\n\t  9 &  7\\\\\n\t 16 & 13\\\\\n\t 16 & 15\\\\\n\t 22 & 20\\\\\n\t 25 & 19\\\\\n\\end{tabular}\n",
            "text/plain": [
              "  publicidade vendas\n",
              "1  7           5    \n",
              "2  9           7    \n",
              "3 16          13    \n",
              "4 16          15    \n",
              "5 22          20    \n",
              "6 25          19    "
            ]
          },
          "metadata": {}
        }
      ]
    },
    {
      "cell_type": "markdown",
      "source": [
        "a) A correlação entre as variáveis Vendas x Gastos com publicidade"
      ],
      "metadata": {
        "id": "a4rDQGKwqYqq"
      }
    },
    {
      "cell_type": "code",
      "source": [
        "# Calculando a correlação entre as variáveis Vendas x Publicidade\n",
        "correlacao <- cor(dados$vendas, dados$publicidade)\n",
        "\n",
        "# Exibindo o resultado da correlação\n",
        "correlacao"
      ],
      "metadata": {
        "colab": {
          "base_uri": "https://localhost:8080/",
          "height": 34
        },
        "id": "Z4ow4KQDqZNr",
        "outputId": "6b1640ba-c5f0-4801-f30c-dcdf089cb852"
      },
      "execution_count": null,
      "outputs": [
        {
          "output_type": "display_data",
          "data": {
            "text/html": [
              "0.97347006775617"
            ],
            "text/markdown": "0.97347006775617",
            "text/latex": "0.97347006775617",
            "text/plain": [
              "[1] 0.9734701"
            ]
          },
          "metadata": {}
        }
      ]
    },
    {
      "cell_type": "markdown",
      "source": [
        "b) A reta da regressão linear"
      ],
      "metadata": {
        "id": "4uNNqDiQqn1C"
      }
    },
    {
      "cell_type": "code",
      "source": [
        "# Calculando a regressão linear entre as variáveis Vendas x Publicidade\n",
        "regressao <- lm(vendas ~ publicidade, data = dados)\n",
        "\n",
        "# Exibindo o resultado da regressão\n",
        "summary(regressao)"
      ],
      "metadata": {
        "colab": {
          "base_uri": "https://localhost:8080/",
          "height": 346
        },
        "id": "1V2hwDBVqoaZ",
        "outputId": "0f398bf3-e543-4833-a309-6f23ed022c65"
      },
      "execution_count": null,
      "outputs": [
        {
          "output_type": "display_data",
          "data": {
            "text/plain": [
              "\n",
              "Call:\n",
              "lm(formula = vendas ~ publicidade, data = dados)\n",
              "\n",
              "Residuals:\n",
              "      1       2       3       4       5       6 \n",
              "-0.6455 -0.3484 -0.3086  1.6914  1.5827 -1.9716 \n",
              "\n",
              "Coefficients:\n",
              "            Estimate Std. Error t value Pr(>|t|)   \n",
              "(Intercept)  -0.3147     1.7095  -0.184  0.86292   \n",
              "publicidade   0.8515     0.1001   8.509  0.00105 **\n",
              "---\n",
              "Signif. codes:  0 ‘***’ 0.001 ‘**’ 0.01 ‘*’ 0.05 ‘.’ 0.1 ‘ ’ 1\n",
              "\n",
              "Residual standard error: 1.572 on 4 degrees of freedom\n",
              "Multiple R-squared:  0.9476,\tAdjusted R-squared:  0.9346 \n",
              "F-statistic:  72.4 on 1 and 4 DF,  p-value: 0.001046\n"
            ]
          },
          "metadata": {}
        }
      ]
    },
    {
      "cell_type": "code",
      "source": [
        "# Criando o gráfico de dispersão com a linha de regressão\n",
        "library(ggplot2)\n",
        "ggplot(dados, aes(x = publicidade, y = vendas)) +\n",
        "  geom_point() +  # Adicionando os pontos de dispersão\n",
        "  geom_smooth(method = \"lm\", se = FALSE)  # Adicionando a linha de regressão"
      ],
      "metadata": {
        "colab": {
          "base_uri": "https://localhost:8080/",
          "height": 455
        },
        "id": "jb3lpXRSq6Jm",
        "outputId": "2f52b9f2-981c-4c9e-e7e4-ffda9bf568f3"
      },
      "execution_count": null,
      "outputs": [
        {
          "output_type": "stream",
          "name": "stderr",
          "text": [
            "\u001b[1m\u001b[22m`geom_smooth()` using formula = 'y ~ x'\n"
          ]
        },
        {
          "output_type": "display_data",
          "data": {
            "text/plain": [
              "plot without title"
            ],
            "image/png": "[encoded data removed]"
          },
          "metadata": {
            "image/png": {
              "width": 420,
              "height": 420
            }
          }
        }
      ]
    },
    {
      "cell_type": "markdown",
      "source": [
        "c) Com publicidade (x) de 30 meses qual a previsão de retorno em vendas (y)"
      ],
      "metadata": {
        "id": "_-qgoyLbrAHE"
      }
    },
    {
      "cell_type": "code",
      "source": [
        "# Ajustando o modelo de regressão linear\n",
        "modelo <- lm(vendas ~ publicidade, data = dados)\n",
        "# Fazendo a previsão com Publicidade (x) de 30 meses\n",
        "nova_obs <- data.frame(publicidade = 30)\n",
        "previsao <- predict(modelo, newdata = nova_obs)\n",
        "\n",
        "# Imprimindo a previsão de retorno em vendas\n",
        "previsao"
      ],
      "metadata": {
        "colab": {
          "base_uri": "https://localhost:8080/",
          "height": 34
        },
        "id": "_9fh7BB5rA_t",
        "outputId": "34bf31d1-fcc2-4908-b1fc-a9dbf325cd86"
      },
      "execution_count": null,
      "outputs": [
        {
          "output_type": "display_data",
          "data": {
            "text/html": [
              "<strong>1:</strong> 25.2288993923025"
            ],
            "text/markdown": "**1:** 25.2288993923025",
            "text/latex": "\\textbf{1:} 25.2288993923025",
            "text/plain": [
              "      1 \n",
              "25.2289 "
            ]
          },
          "metadata": {}
        }
      ]
    },
    {
      "cell_type": "markdown",
      "source": [
        "# 4) As vendas de determinado produto e os gastos com treinamento de uma empresa, estão no gráfico abaixo. Determine para estas variáveis:\n"
      ],
      "metadata": {
        "id": "u_8tvu7TsL5T"
      }
    },
    {
      "cell_type": "markdown",
      "source": [
        "a) A correlação entre as variáveis Vendas x Gastos com publicidade\n"
      ],
      "metadata": {
        "id": "wDFsxBB-sNw-"
      }
    },
    {
      "cell_type": "code",
      "source": [
        "# Criando o dataframe com as variáveis\n",
        "dados <- data.frame(Treinamento = c(2, 3, 5, 6, 10, 10),\n",
        "                    Vendas = c(5, 7, 13, 15, 20, 19))\n",
        "\n",
        "# Criando o dataframe com as variáveis\n",
        "dados <- data.frame(treinamento, vendas)\n",
        "\n",
        "# Exibindo o dataframe\n",
        "dados\n"
      ],
      "metadata": {
        "colab": {
          "base_uri": "https://localhost:8080/",
          "height": 286
        },
        "id": "NigDb2B0skWk",
        "outputId": "39677e07-64d9-45fd-ae58-8738fd3fca97"
      },
      "execution_count": null,
      "outputs": [
        {
          "output_type": "display_data",
          "data": {
            "text/html": [
              "<table class=\"dataframe\">\n",
              "<caption>A data.frame: 6 × 2</caption>\n",
              "<thead>\n",
              "\t<tr><th scope=col>treinamento</th><th scope=col>vendas</th></tr>\n",
              "\t<tr><th scope=col>&lt;dbl&gt;</th><th scope=col>&lt;dbl&gt;</th></tr>\n",
              "</thead>\n",
              "<tbody>\n",
              "\t<tr><td> 2</td><td> 5</td></tr>\n",
              "\t<tr><td> 3</td><td> 7</td></tr>\n",
              "\t<tr><td> 5</td><td>13</td></tr>\n",
              "\t<tr><td> 6</td><td>15</td></tr>\n",
              "\t<tr><td>10</td><td>20</td></tr>\n",
              "\t<tr><td>10</td><td>19</td></tr>\n",
              "</tbody>\n",
              "</table>\n"
            ],
            "text/markdown": "\nA data.frame: 6 × 2\n\n| treinamento &lt;dbl&gt; | vendas &lt;dbl&gt; |\n|---|---|\n|  2 |  5 |\n|  3 |  7 |\n|  5 | 13 |\n|  6 | 15 |\n| 10 | 20 |\n| 10 | 19 |\n\n",
            "text/latex": "A data.frame: 6 × 2\n\\begin{tabular}{ll}\n treinamento & vendas\\\\\n <dbl> & <dbl>\\\\\n\\hline\n\t  2 &  5\\\\\n\t  3 &  7\\\\\n\t  5 & 13\\\\\n\t  6 & 15\\\\\n\t 10 & 20\\\\\n\t 10 & 19\\\\\n\\end{tabular}\n",
            "text/plain": [
              "  treinamento vendas\n",
              "1  2           5    \n",
              "2  3           7    \n",
              "3  5          13    \n",
              "4  6          15    \n",
              "5 10          20    \n",
              "6 10          19    "
            ]
          },
          "metadata": {}
        }
      ]
    },
    {
      "cell_type": "code",
      "source": [
        "# Calculando a correlação entre as variáveis\n",
        "correlacao <- cor(dados[, c(\"treinamento\", \"vendas\")])\n",
        "\n",
        "# Exibindo o valor da correlação\n",
        "correlacao"
      ],
      "metadata": {
        "colab": {
          "base_uri": "https://localhost:8080/",
          "height": 129
        },
        "id": "M3TtHL6Zs4ok",
        "outputId": "80ac0029-6e19-4bf3-d656-4a0f752447db"
      },
      "execution_count": null,
      "outputs": [
        {
          "output_type": "display_data",
          "data": {
            "text/html": [
              "<table class=\"dataframe\">\n",
              "<caption>A matrix: 2 × 2 of type dbl</caption>\n",
              "<thead>\n",
              "\t<tr><th></th><th scope=col>treinamento</th><th scope=col>vendas</th></tr>\n",
              "</thead>\n",
              "<tbody>\n",
              "\t<tr><th scope=row>treinamento</th><td>1.0000000</td><td>0.9746459</td></tr>\n",
              "\t<tr><th scope=row>vendas</th><td>0.9746459</td><td>1.0000000</td></tr>\n",
              "</tbody>\n",
              "</table>\n"
            ],
            "text/markdown": "\nA matrix: 2 × 2 of type dbl\n\n| <!--/--> | treinamento | vendas |\n|---|---|---|\n| treinamento | 1.0000000 | 0.9746459 |\n| vendas | 0.9746459 | 1.0000000 |\n\n",
            "text/latex": "A matrix: 2 × 2 of type dbl\n\\begin{tabular}{r|ll}\n  & treinamento & vendas\\\\\n\\hline\n\ttreinamento & 1.0000000 & 0.9746459\\\\\n\tvendas & 0.9746459 & 1.0000000\\\\\n\\end{tabular}\n",
            "text/plain": [
              "            treinamento vendas   \n",
              "treinamento 1.0000000   0.9746459\n",
              "vendas      0.9746459   1.0000000"
            ]
          },
          "metadata": {}
        }
      ]
    },
    {
      "cell_type": "markdown",
      "source": [
        "b) A reta da regressão linear"
      ],
      "metadata": {
        "id": "lneGO8egtt35"
      }
    },
    {
      "cell_type": "code",
      "source": [
        "# Realizando a regressão linear\n",
        "reg <- lm(vendas ~ treinamento, data = dados)\n",
        "\n",
        "# Plotando o gráfico de dispersão e a reta de regressão linear\n",
        "plot(dados$treinamento, dados$vendas, main = \"Reta de regressão linear\", xlab = \"Treinamento\", ylab = \"Vendas\")\n",
        "abline(reg, col = \"red\")"
      ],
      "metadata": {
        "colab": {
          "base_uri": "https://localhost:8080/",
          "height": 437
        },
        "id": "h8XaGAJDtvkX",
        "outputId": "4805817a-562c-4758-a602-8c9095a9b3ff"
      },
      "execution_count": null,
      "outputs": [
        {
          "output_type": "display_data",
          "data": {
            "text/plain": [
              "Plot with title “Reta de regressão linear”"
            ],
            "image/png": "[encoded data removed]"
          },
          "metadata": {
            "image/png": {
              "width": 420,
              "height": 420
            }
          }
        }
      ]
    },
    {
      "cell_type": "markdown",
      "source": [
        "Com treinamento (x) de 20 meses qual a previsão de retorno em vendas (y)\n"
      ],
      "metadata": {
        "id": "0Fm8JD4vuq9m"
      }
    },
    {
      "cell_type": "code",
      "source": [
        "# Ajuste do modelo de regressão\n",
        "ajuste <- lm(vendas ~ treinamento, data = dados)\n",
        "\n",
        "# Previsão de vendas para Treinamento = 20\n",
        "nova_obs <- data.frame(treinamento = 20)\n",
        "prev_vendas <- predict(ajuste, newdata = nova_obs)\n",
        "prev_vendas\n"
      ],
      "metadata": {
        "colab": {
          "base_uri": "https://localhost:8080/",
          "height": 34
        },
        "id": "FwculmPputRg",
        "outputId": "8619a140-58b9-4519-dd6b-248b23cb95d1"
      },
      "execution_count": null,
      "outputs": [
        {
          "output_type": "display_data",
          "data": {
            "text/html": [
              "<strong>1:</strong> 37.7873563218391"
            ],
            "text/markdown": "**1:** 37.7873563218391",
            "text/latex": "\\textbf{1:} 37.7873563218391",
            "text/plain": [
              "       1 \n",
              "37.78736 "
            ]
          },
          "metadata": {}
        }
      ]
    },
    {
      "cell_type": "markdown",
      "source": [
        "# 5) Uma amostra de 10 pessoas forneceu para as alturas (X) em centímetro e pesos y (emkg) os seguintes valores:\n"
      ],
      "metadata": {
        "id": "rfWe56WNvzSq"
      }
    },
    {
      "cell_type": "code",
      "source": [
        "Altura <- c(177, 175, 176, 182, 185, 169, 170, 160)\n",
        "Peso <- c(91, 72, 67, 93, 80, 71, 65, 65)\n",
        "\n",
        "dados <- data.frame(Altura, Peso)\n",
        "dados"
      ],
      "metadata": {
        "colab": {
          "base_uri": "https://localhost:8080/",
          "height": 366
        },
        "id": "aRP4MblIwAQ5",
        "outputId": "75e75c2e-9c36-4445-ee92-29dd47989ec5"
      },
      "execution_count": null,
      "outputs": [
        {
          "output_type": "display_data",
          "data": {
            "text/html": [
              "<table class=\"dataframe\">\n",
              "<caption>A data.frame: 8 × 2</caption>\n",
              "<thead>\n",
              "\t<tr><th scope=col>Altura</th><th scope=col>Peso</th></tr>\n",
              "\t<tr><th scope=col>&lt;dbl&gt;</th><th scope=col>&lt;dbl&gt;</th></tr>\n",
              "</thead>\n",
              "<tbody>\n",
              "\t<tr><td>177</td><td>91</td></tr>\n",
              "\t<tr><td>175</td><td>72</td></tr>\n",
              "\t<tr><td>176</td><td>67</td></tr>\n",
              "\t<tr><td>182</td><td>93</td></tr>\n",
              "\t<tr><td>185</td><td>80</td></tr>\n",
              "\t<tr><td>169</td><td>71</td></tr>\n",
              "\t<tr><td>170</td><td>65</td></tr>\n",
              "\t<tr><td>160</td><td>65</td></tr>\n",
              "</tbody>\n",
              "</table>\n"
            ],
            "text/markdown": "\nA data.frame: 8 × 2\n\n| Altura &lt;dbl&gt; | Peso &lt;dbl&gt; |\n|---|---|\n| 177 | 91 |\n| 175 | 72 |\n| 176 | 67 |\n| 182 | 93 |\n| 185 | 80 |\n| 169 | 71 |\n| 170 | 65 |\n| 160 | 65 |\n\n",
            "text/latex": "A data.frame: 8 × 2\n\\begin{tabular}{ll}\n Altura & Peso\\\\\n <dbl> & <dbl>\\\\\n\\hline\n\t 177 & 91\\\\\n\t 175 & 72\\\\\n\t 176 & 67\\\\\n\t 182 & 93\\\\\n\t 185 & 80\\\\\n\t 169 & 71\\\\\n\t 170 & 65\\\\\n\t 160 & 65\\\\\n\\end{tabular}\n",
            "text/plain": [
              "  Altura Peso\n",
              "1 177    91  \n",
              "2 175    72  \n",
              "3 176    67  \n",
              "4 182    93  \n",
              "5 185    80  \n",
              "6 169    71  \n",
              "7 170    65  \n",
              "8 160    65  "
            ]
          },
          "metadata": {}
        }
      ]
    },
    {
      "cell_type": "markdown",
      "source": [
        "a) A correlação entre as variáveis Altura x Peso"
      ],
      "metadata": {
        "id": "GkOKoU4Hv2LJ"
      }
    },
    {
      "cell_type": "code",
      "source": [
        "cor(dados$Altura, dados$Peso)\n"
      ],
      "metadata": {
        "colab": {
          "base_uri": "https://localhost:8080/",
          "height": 34
        },
        "id": "G1vUmOeiwVct",
        "outputId": "6b1f4999-5673-4221-b4e2-75f160ceae97"
      },
      "execution_count": null,
      "outputs": [
        {
          "output_type": "display_data",
          "data": {
            "text/html": [
              "0.685095899528201"
            ],
            "text/markdown": "0.685095899528201",
            "text/latex": "0.685095899528201",
            "text/plain": [
              "[1] 0.6850959"
            ]
          },
          "metadata": {}
        }
      ]
    },
    {
      "cell_type": "markdown",
      "source": [
        "b) A reta da regressão linear"
      ],
      "metadata": {
        "id": "oNM2HxvfwYOu"
      }
    },
    {
      "cell_type": "code",
      "source": [
        "modelo <- lm(Peso ~ Altura, data = dados)\n",
        "summary(modelo)\n"
      ],
      "metadata": {
        "colab": {
          "base_uri": "https://localhost:8080/",
          "height": 346
        },
        "id": "nUb-53zcwY9l",
        "outputId": "4106bcac-fe02-472b-d78f-b8df9da63345"
      },
      "execution_count": null,
      "outputs": [
        {
          "output_type": "display_data",
          "data": {
            "text/plain": [
              "\n",
              "Call:\n",
              "lm(formula = Peso ~ Altura, data = dados)\n",
              "\n",
              "Residuals:\n",
              "    Min      1Q  Median      3Q     Max \n",
              "-10.216  -6.113  -1.794   5.079  12.804 \n",
              "\n",
              "Coefficients:\n",
              "            Estimate Std. Error t value Pr(>|t|)  \n",
              "(Intercept) -95.3490    74.2294  -1.285   0.2463  \n",
              "Altura        0.9805     0.4256   2.304   0.0608 .\n",
              "---\n",
              "Signif. codes:  0 ‘***’ 0.001 ‘**’ 0.01 ‘*’ 0.05 ‘.’ 0.1 ‘ ’ 1\n",
              "\n",
              "Residual standard error: 8.882 on 6 degrees of freedom\n",
              "Multiple R-squared:  0.4694,\tAdjusted R-squared:  0.3809 \n",
              "F-statistic: 5.307 on 1 and 6 DF,  p-value: 0.06079\n"
            ]
          },
          "metadata": {}
        }
      ]
    },
    {
      "cell_type": "code",
      "source": [
        "# ajustar o modelo de regressão linear\n",
        "modelo <- lm(Peso ~ Altura, data = dados)\n",
        "\n",
        "# plotar os pontos e a reta de regressão linear\n",
        "plot(Peso ~ Altura, data = dados, main = \"Regressão linear entre Altura e Peso\")\n",
        "abline(modelo)\n"
      ],
      "metadata": {
        "colab": {
          "base_uri": "https://localhost:8080/",
          "height": 437
        },
        "id": "NFhrSJ4_whyw",
        "outputId": "31c39979-bace-4cb1-987e-3a0640b26737"
      },
      "execution_count": null,
      "outputs": [
        {
          "output_type": "display_data",
          "data": {
            "text/plain": [
              "Plot with title “Regressão linear entre Altura e Peso”"
            ],
            "image/png": "[encoded data removed]"
          },
          "metadata": {
            "image/png": {
              "width": 420,
              "height": 420
            }
          }
        }
      ]
    },
    {
      "cell_type": "markdown",
      "source": [
        "c) Faça uma estimativa do peso de uma pessoa com 185 cm\n"
      ],
      "metadata": {
        "id": "kzWvRSAyxAXq"
      }
    },
    {
      "cell_type": "code",
      "source": [
        "# Cálculo da reta de regressão linear\n",
        "modelo <- lm(Peso ~ Altura, data = dados)\n",
        "\n",
        "# Estimativa do peso para uma pessoa com 185 cm de altura\n",
        "altura_nova <- data.frame(Altura = 185)\n",
        "predict(modelo, newdata = altura_nova)"
      ],
      "metadata": {
        "colab": {
          "base_uri": "https://localhost:8080/",
          "height": 34
        },
        "id": "0BSYqeq-xDQy",
        "outputId": "58c48b7a-eec8-4286-9ccc-049fad17e30a"
      },
      "execution_count": null,
      "outputs": [
        {
          "output_type": "display_data",
          "data": {
            "text/html": [
              "<strong>1:</strong> 86.0401836969002"
            ],
            "text/markdown": "**1:** 86.0401836969002",
            "text/latex": "\\textbf{1:} 86.0401836969002",
            "text/plain": [
              "       1 \n",
              "86.04018 "
            ]
          },
          "metadata": {}
        }
      ]
    }
  ]
}